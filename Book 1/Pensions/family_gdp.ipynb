{
 "cells": [
  {
   "cell_type": "code",
   "execution_count": 106,
   "metadata": {},
   "outputs": [
    {
     "data": {
      "text/plain": [
       "<bound method DataFrame.to_string of             Source   Branch Type of Expenditure     Type COUNTRY  Year   \n",
       "0           Public  Old age               Total     NCUR     AUS  1980  \\\n",
       "1           Public  Old age               Total     NCUR     AUS  1990   \n",
       "2           Public  Old age               Total     NCUR     AUS  2000   \n",
       "3           Public  Old age               Total     NCUR     AUS  2005   \n",
       "4           Public  Old age               Total     NCUR     AUS  2010   \n",
       "...            ...      ...                 ...      ...     ...   ...   \n",
       "313710  Net Public    Total               Total  PCT_GDP     LTU  2019   \n",
       "313711  Net Public    Total               Total  PCT_GDP     CRI  2019   \n",
       "313712   Net Total    Total               Total  PCT_GDP     COL  2019   \n",
       "313713   Net Total    Total               Total  PCT_GDP     CRI  2019   \n",
       "313714  Net Public    Total               Total  PCT_GDP     COL  2019   \n",
       "\n",
       "       Unit Code               Unit PowerCode      Value  \n",
       "0            AUD  Australian Dollar  Millions   4722.783  \n",
       "1            AUD  Australian Dollar  Millions  13992.788  \n",
       "2            AUD  Australian Dollar  Millions  39858.485  \n",
       "3            AUD  Australian Dollar  Millions  46930.541  \n",
       "4            AUD  Australian Dollar  Millions  60654.944  \n",
       "...          ...                ...       ...        ...  \n",
       "313710        PC         Percentage     Units     15.078  \n",
       "313711        PC         Percentage     Units     11.729  \n",
       "313712        PC         Percentage     Units     15.724  \n",
       "313713        PC         Percentage     Units     12.537  \n",
       "313714        PC         Percentage     Units     13.466  \n",
       "\n",
       "[313715 rows x 10 columns]>"
      ]
     },
     "execution_count": 106,
     "metadata": {},
     "output_type": "execute_result"
    }
   ],
   "source": [
    "import pandas as pd \n",
    "import numpy as np\n",
    "df = pd.read_csv(\"FAMILY_GDP.csv\")\n",
    "\n",
    "df.index\n",
    "\n",
    "columns = ['Source, Branch, Type of Expenditure, Type, COUNTRY, Year, Unit Code, Unit, PowerCode, Value']\n",
    "#Creating an index for columns\n",
    "index_of_columns = columns.index\n",
    "\n",
    "#Select needed data\n",
    "df1 = df[df['Source'] == 'Public']\n",
    "df2 = df1[df1['Type of Expenditure'] == 'Total']\n",
    "df3 = df2[df2['Branch'] == 'Family']\n",
    "df4 = df3[df3['Type'] == 'PCT_GDP']\n",
    "#Remove uneeded data\n",
    "df5 = df4.drop(columns=['PowerCode', 'Unit Code'])\n",
    "#drop nulls\n",
    "df6 = df5.dropna\n",
    "\n",
    "#print(df6.to_string())"
   ]
  },
  {
   "cell_type": "code",
   "execution_count": null,
   "metadata": {},
   "outputs": [],
   "source": []
  }
 ],
 "metadata": {
  "kernelspec": {
   "display_name": "Python 3",
   "language": "python",
   "name": "python3"
  },
  "language_info": {
   "codemirror_mode": {
    "name": "ipython",
    "version": 3
   },
   "file_extension": ".py",
   "mimetype": "text/x-python",
   "name": "python",
   "nbconvert_exporter": "python",
   "pygments_lexer": "ipython3",
   "version": "3.11.3"
  },
  "orig_nbformat": 4
 },
 "nbformat": 4,
 "nbformat_minor": 2
}
